{
 "cells": [
  {
   "cell_type": "code",
   "execution_count": 1,
   "id": "3195c619-df24-485b-bf8d-aad995efcf99",
   "metadata": {},
   "outputs": [],
   "source": [
    "import pandas as pd\n",
    "import numpy as np\n",
    "import sys"
   ]
  },
  {
   "cell_type": "code",
   "execution_count": 2,
   "id": "2bbbeae6-b40c-43f9-afb9-8ab0971db4f4",
   "metadata": {},
   "outputs": [],
   "source": [
    "sys.path.append('..')\n",
    "\n",
    "from src.preprocess import *"
   ]
  },
  {
   "cell_type": "code",
   "execution_count": null,
   "id": "66c7bb7a-2de9-4ee0-80e9-43f3fa0b0a7c",
   "metadata": {},
   "outputs": [],
   "source": []
  },
  {
   "cell_type": "code",
   "execution_count": 3,
   "id": "077fd341-014e-410f-a4f4-036fcbfb3e29",
   "metadata": {},
   "outputs": [],
   "source": [
    "dummy_df = pd.DataFrame({'Col_1':[0,1], 'Deck':[1,2]})"
   ]
  },
  {
   "cell_type": "code",
   "execution_count": 4,
   "id": "1c910f69-d800-47df-84ff-6c53d0d7e05d",
   "metadata": {},
   "outputs": [
    {
     "data": {
      "text/html": [
       "<div>\n",
       "<style scoped>\n",
       "    .dataframe tbody tr th:only-of-type {\n",
       "        vertical-align: middle;\n",
       "    }\n",
       "\n",
       "    .dataframe tbody tr th {\n",
       "        vertical-align: top;\n",
       "    }\n",
       "\n",
       "    .dataframe thead th {\n",
       "        text-align: right;\n",
       "    }\n",
       "</style>\n",
       "<table border=\"1\" class=\"dataframe\">\n",
       "  <thead>\n",
       "    <tr style=\"text-align: right;\">\n",
       "      <th></th>\n",
       "      <th>Col_1</th>\n",
       "    </tr>\n",
       "  </thead>\n",
       "  <tbody>\n",
       "    <tr>\n",
       "      <th>0</th>\n",
       "      <td>0</td>\n",
       "    </tr>\n",
       "    <tr>\n",
       "      <th>1</th>\n",
       "      <td>1</td>\n",
       "    </tr>\n",
       "  </tbody>\n",
       "</table>\n",
       "</div>"
      ],
      "text/plain": [
       "   Col_1\n",
       "0      0\n",
       "1      1"
      ]
     },
     "execution_count": 4,
     "metadata": {},
     "output_type": "execute_result"
    }
   ],
   "source": [
    "deck_column_removal(dummy_df)"
   ]
  },
  {
   "cell_type": "code",
   "execution_count": 5,
   "id": "fe1d913e-b3ae-4a7b-87a3-7b14cd831167",
   "metadata": {},
   "outputs": [
    {
     "data": {
      "text/plain": [
       "False"
      ]
     },
     "execution_count": 5,
     "metadata": {},
     "output_type": "execute_result"
    }
   ],
   "source": [
    "'Deck' in deck_column_removal(dummy_df)"
   ]
  },
  {
   "cell_type": "code",
   "execution_count": 6,
   "id": "bb7f8cbb-71a3-4a81-b2e2-4d8838fb87a2",
   "metadata": {},
   "outputs": [],
   "source": [
    "dummy_df = pd.DataFrame({'Age':[np.nan, 20,np.nan],\n",
    "                         'Sex':['male', 'female', 'female'],\n",
    "                         'EmbarkedCity':['S','Q','C'],\n",
    "                         'Class':['First','Second','Third']})"
   ]
  },
  {
   "cell_type": "code",
   "execution_count": 8,
   "id": "38211853-82e2-49a0-8af4-1c0fab8970ad",
   "metadata": {},
   "outputs": [],
   "source": [
    "age_imputed_df = age_column_imputation(dummy_df)"
   ]
  },
  {
   "cell_type": "code",
   "execution_count": 9,
   "id": "ef60bc14-5ba0-402a-a978-2f8e0a63eae0",
   "metadata": {},
   "outputs": [
    {
     "data": {
      "text/html": [
       "<div>\n",
       "<style scoped>\n",
       "    .dataframe tbody tr th:only-of-type {\n",
       "        vertical-align: middle;\n",
       "    }\n",
       "\n",
       "    .dataframe tbody tr th {\n",
       "        vertical-align: top;\n",
       "    }\n",
       "\n",
       "    .dataframe thead th {\n",
       "        text-align: right;\n",
       "    }\n",
       "</style>\n",
       "<table border=\"1\" class=\"dataframe\">\n",
       "  <thead>\n",
       "    <tr style=\"text-align: right;\">\n",
       "      <th></th>\n",
       "      <th>Sex</th>\n",
       "      <th>EmbarkedCity</th>\n",
       "      <th>Class</th>\n",
       "      <th>Age</th>\n",
       "    </tr>\n",
       "  </thead>\n",
       "  <tbody>\n",
       "    <tr>\n",
       "      <th>0</th>\n",
       "      <td>male</td>\n",
       "      <td>S</td>\n",
       "      <td>First</td>\n",
       "      <td>42.00</td>\n",
       "    </tr>\n",
       "    <tr>\n",
       "      <th>1</th>\n",
       "      <td>female</td>\n",
       "      <td>Q</td>\n",
       "      <td>Second</td>\n",
       "      <td>20.00</td>\n",
       "    </tr>\n",
       "    <tr>\n",
       "      <th>2</th>\n",
       "      <td>female</td>\n",
       "      <td>C</td>\n",
       "      <td>Third</td>\n",
       "      <td>14.25</td>\n",
       "    </tr>\n",
       "  </tbody>\n",
       "</table>\n",
       "</div>"
      ],
      "text/plain": [
       "      Sex EmbarkedCity   Class    Age\n",
       "0    male            S   First  42.00\n",
       "1  female            Q  Second  20.00\n",
       "2  female            C   Third  14.25"
      ]
     },
     "execution_count": 9,
     "metadata": {},
     "output_type": "execute_result"
    }
   ],
   "source": [
    "age_imputed_df"
   ]
  },
  {
   "cell_type": "code",
   "execution_count": 13,
   "id": "fb739034-cf34-4e75-94e8-ed1336b9d658",
   "metadata": {},
   "outputs": [
    {
     "data": {
      "text/plain": [
       "True"
      ]
     },
     "execution_count": 13,
     "metadata": {},
     "output_type": "execute_result"
    }
   ],
   "source": [
    "age_imputed_df['Age'].values[0] == 42.00"
   ]
  },
  {
   "cell_type": "code",
   "execution_count": 14,
   "id": "4bcdbecd-0180-4ef1-8142-62701d25d717",
   "metadata": {},
   "outputs": [],
   "source": [
    "    dummy_df = pd.DataFrame({'City':['A','B','C']})\n",
    "    encoded_df = city_encoding(dummy_df)"
   ]
  },
  {
   "cell_type": "code",
   "execution_count": 15,
   "id": "9581962b-08d0-4165-b4e6-58568627f113",
   "metadata": {},
   "outputs": [
    {
     "data": {
      "text/html": [
       "<div>\n",
       "<style scoped>\n",
       "    .dataframe tbody tr th:only-of-type {\n",
       "        vertical-align: middle;\n",
       "    }\n",
       "\n",
       "    .dataframe tbody tr th {\n",
       "        vertical-align: top;\n",
       "    }\n",
       "\n",
       "    .dataframe thead th {\n",
       "        text-align: right;\n",
       "    }\n",
       "</style>\n",
       "<table border=\"1\" class=\"dataframe\">\n",
       "  <thead>\n",
       "    <tr style=\"text-align: right;\">\n",
       "      <th></th>\n",
       "      <th>City_A</th>\n",
       "      <th>City_B</th>\n",
       "      <th>City_C</th>\n",
       "    </tr>\n",
       "  </thead>\n",
       "  <tbody>\n",
       "    <tr>\n",
       "      <th>0</th>\n",
       "      <td>1</td>\n",
       "      <td>0</td>\n",
       "      <td>0</td>\n",
       "    </tr>\n",
       "    <tr>\n",
       "      <th>1</th>\n",
       "      <td>0</td>\n",
       "      <td>1</td>\n",
       "      <td>0</td>\n",
       "    </tr>\n",
       "    <tr>\n",
       "      <th>2</th>\n",
       "      <td>0</td>\n",
       "      <td>0</td>\n",
       "      <td>1</td>\n",
       "    </tr>\n",
       "  </tbody>\n",
       "</table>\n",
       "</div>"
      ],
      "text/plain": [
       "   City_A  City_B  City_C\n",
       "0       1       0       0\n",
       "1       0       1       0\n",
       "2       0       0       1"
      ]
     },
     "execution_count": 15,
     "metadata": {},
     "output_type": "execute_result"
    }
   ],
   "source": [
    "encoded_df"
   ]
  },
  {
   "cell_type": "code",
   "execution_count": 20,
   "id": "f5f9bfa5-1cce-44eb-b884-de069be9fb3e",
   "metadata": {},
   "outputs": [
    {
     "data": {
      "text/plain": [
       "True"
      ]
     },
     "execution_count": 20,
     "metadata": {},
     "output_type": "execute_result"
    }
   ],
   "source": [
    "(encoded_df.columns == ['City_A', 'City_B', 'City_C']).sum() == 3"
   ]
  },
  {
   "cell_type": "code",
   "execution_count": 22,
   "id": "d30b57b3-e7b7-4c3d-ac7e-36a5dbff60c7",
   "metadata": {},
   "outputs": [
    {
     "data": {
      "text/plain": [
       "3"
      ]
     },
     "execution_count": 22,
     "metadata": {},
     "output_type": "execute_result"
    }
   ],
   "source": [
    "encoded_df.sum(axis = 1).sum()"
   ]
  },
  {
   "cell_type": "code",
   "execution_count": 23,
   "id": "a35884f9-49bf-452d-aca2-4304aa8b7999",
   "metadata": {},
   "outputs": [
    {
     "name": "stdout",
     "output_type": "stream",
     "text": [
      "Conducting missing value imputation on Age column...\n",
      "Conducting encoding on Class column...\n",
      "Conducting encoding on Sex column...\n",
      "Conducting encoding on EmbarkedCity column...\n"
     ]
    }
   ],
   "source": [
    "    dummy_df = pd.DataFrame({'Deck':['A','B'],\n",
    "                             'Age':[np.nan,50],\n",
    "                             'Sex':['male', 'female'],\n",
    "                             'EmbarkedCity':['S','Q'],\n",
    "                             'Class':['Second','First']})\n",
    "    preprocessed_df = preprocess(dummy_df)"
   ]
  },
  {
   "cell_type": "code",
   "execution_count": 24,
   "id": "1bd370fb-ed20-4305-9270-307871cf1d00",
   "metadata": {},
   "outputs": [
    {
     "data": {
      "text/html": [
       "<div>\n",
       "<style scoped>\n",
       "    .dataframe tbody tr th:only-of-type {\n",
       "        vertical-align: middle;\n",
       "    }\n",
       "\n",
       "    .dataframe tbody tr th {\n",
       "        vertical-align: top;\n",
       "    }\n",
       "\n",
       "    .dataframe thead th {\n",
       "        text-align: right;\n",
       "    }\n",
       "</style>\n",
       "<table border=\"1\" class=\"dataframe\">\n",
       "  <thead>\n",
       "    <tr style=\"text-align: right;\">\n",
       "      <th></th>\n",
       "      <th>Sex</th>\n",
       "      <th>Class</th>\n",
       "      <th>Age</th>\n",
       "      <th>EmbarkedCity_Q</th>\n",
       "      <th>EmbarkedCity_S</th>\n",
       "    </tr>\n",
       "  </thead>\n",
       "  <tbody>\n",
       "    <tr>\n",
       "      <th>0</th>\n",
       "      <td>1</td>\n",
       "      <td>2</td>\n",
       "      <td>30.0</td>\n",
       "      <td>0</td>\n",
       "      <td>1</td>\n",
       "    </tr>\n",
       "    <tr>\n",
       "      <th>1</th>\n",
       "      <td>0</td>\n",
       "      <td>1</td>\n",
       "      <td>50.0</td>\n",
       "      <td>1</td>\n",
       "      <td>0</td>\n",
       "    </tr>\n",
       "  </tbody>\n",
       "</table>\n",
       "</div>"
      ],
      "text/plain": [
       "   Sex  Class   Age  EmbarkedCity_Q  EmbarkedCity_S\n",
       "0    1      2  30.0               0               1\n",
       "1    0      1  50.0               1               0"
      ]
     },
     "execution_count": 24,
     "metadata": {},
     "output_type": "execute_result"
    }
   ],
   "source": [
    "preprocessed_df"
   ]
  },
  {
   "cell_type": "code",
   "execution_count": 26,
   "id": "ee7b8cef-34c7-41e8-a9e5-ab1cbabad07c",
   "metadata": {},
   "outputs": [
    {
     "data": {
      "text/plain": [
       "array([ True,  True])"
      ]
     },
     "execution_count": 26,
     "metadata": {},
     "output_type": "execute_result"
    }
   ],
   "source": [
    "preprocessed_df['Age'].values == [30,50]"
   ]
  },
  {
   "cell_type": "code",
   "execution_count": 27,
   "id": "f38693da-36a3-430d-b786-8815eb6210fa",
   "metadata": {},
   "outputs": [
    {
     "data": {
      "text/plain": [
       "True"
      ]
     },
     "execution_count": 27,
     "metadata": {},
     "output_type": "execute_result"
    }
   ],
   "source": [
    "(preprocessed_df['Age'].values == [30, 50]).sum() == 2"
   ]
  },
  {
   "cell_type": "code",
   "execution_count": null,
   "id": "ccc701c6-86e8-4de6-a060-f285de519741",
   "metadata": {},
   "outputs": [],
   "source": []
  }
 ],
 "metadata": {
  "kernelspec": {
   "display_name": "Python (testdemo)",
   "language": "python",
   "name": "testdemo"
  },
  "language_info": {
   "codemirror_mode": {
    "name": "ipython",
    "version": 3
   },
   "file_extension": ".py",
   "mimetype": "text/x-python",
   "name": "python",
   "nbconvert_exporter": "python",
   "pygments_lexer": "ipython3",
   "version": "3.8.13"
  }
 },
 "nbformat": 4,
 "nbformat_minor": 5
}
